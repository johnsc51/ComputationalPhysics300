{
 "cells": [
  {
   "cell_type": "code",
   "execution_count": 28,
   "metadata": {},
   "outputs": [],
   "source": [
    "def factorial(x):\n",
    "    if x == 0 or x == 1:\n",
    "        return 1\n",
    "    else:\n",
    "        return x * factorial(x - 1)\n",
    "\n",
    "def omega(N, q):\n",
    "    return factorial(q + N - 1) / (factorial(q) * factorial(N - 1))\n",
    "\n",
    "num_of_oscillators = 2\n",
    "\n",
    "print(\"i\\tj\\tTotal Energy\\tOmega\")\n",
    "\n",
    "for i in range(3):\n",
    "    for j in range(3):\n",
    "        if (i + j) > 2:\n",
    "            continue\n",
    "        print(str(i) + \"\\t\" + str(j) + \"\\t\" + str(i + j) + \"\\t\\t\" + str(int(omega(num_of_oscillators, i + j))))\n",
    "        "
   ]
  }
 ],
 "metadata": {
  "kernelspec": {
   "display_name": "Python 3",
   "language": "python",
   "name": "python3"
  },
  "language_info": {
   "codemirror_mode": {
    "name": "ipython",
    "version": 3
   },
   "file_extension": ".py",
   "mimetype": "text/x-python",
   "name": "python",
   "nbconvert_exporter": "python",
   "pygments_lexer": "ipython3",
   "version": "3.6.2"
  }
 },
 "nbformat": 4,
 "nbformat_minor": 2
}
