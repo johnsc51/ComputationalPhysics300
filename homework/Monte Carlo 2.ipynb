{
 "cells": [
  {
   "cell_type": "code",
   "execution_count": 94,
   "metadata": {},
   "outputs": [
    {
     "name": "stderr",
     "output_type": "stream",
     "text": [
      "c:\\users\\magic\\python36\\lib\\site-packages\\scipy\\integrate\\quadpack.py:385: IntegrationWarning: The maximum number of subdivisions (50) has been achieved.\n",
      "  If increasing the limit yields no improvement it is advised to analyze \n",
      "  the integrand in order to determine the difficulties.  If the position of a \n",
      "  local difficulty can be determined (singularity, discontinuity) one will \n",
      "  probably gain from splitting up the interval and calling the integrator \n",
      "  on the subranges.  Perhaps a special-purpose integrator should be used.\n",
      "  warnings.warn(msg, IntegrationWarning)\n"
     ]
    },
    {
     "name": "stdout",
     "output_type": "stream",
     "text": [
      "Scipy: 20.594976039904015\n",
      "Importance Sampling: 15.8350978965\n"
     ]
    }
   ],
   "source": [
    "import numpy as np\n",
    "import matplotlib.pyplot as plt\n",
    "from scipy import integrate\n",
    "\n",
    "def importance_sampling(f, w, a, b, num_of_samples):\n",
    "    x = (b-a) * np.random.random(num_of_samples) + a\n",
    "    I = 0\n",
    "    integral_w = integrate.quad(w, a, b)[0]\n",
    "    for i in range(num_of_samples):\n",
    "        I += 1/num_of_samples * f(x[i])/w(x[i]) * integral_w\n",
    "    return I\n",
    "\n",
    "f = lambda x: x**-1 / (np.exp(x) + 1)\n",
    "w = lambda x: 1/x\n",
    "a = 0\n",
    "b = 1\n",
    "num_of_samples = int(1e+6)\n",
    "\n",
    "print(\"Scipy: \" + str(integrate.quad(f, a, b)[0]))\n",
    "print(\"Importance Sampling: \" + str(importance_sampling(f, w, a, b, num_of_samples)))\n"
   ]
  }
 ],
 "metadata": {
  "kernelspec": {
   "display_name": "Python 3",
   "language": "python",
   "name": "python3"
  },
  "language_info": {
   "codemirror_mode": {
    "name": "ipython",
    "version": 3
   },
   "file_extension": ".py",
   "mimetype": "text/x-python",
   "name": "python",
   "nbconvert_exporter": "python",
   "pygments_lexer": "ipython3",
   "version": "3.6.2"
  }
 },
 "nbformat": 4,
 "nbformat_minor": 2
}
